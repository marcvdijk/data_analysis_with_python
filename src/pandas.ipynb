{
 "cells": [
  {
   "cell_type": "code",
   "execution_count": null,
   "metadata": {},
   "outputs": [],
   "source": [
    "import matplotlib.pyplot as plt\n",
    "plt.rcParams['figure.figsize'] = [10, 5]\n",
    "\n",
    "from pandas import DataFrame, read_excel"
   ]
  },
  {
   "cell_type": "markdown",
   "metadata": {},
   "source": [
    "# Distinguish Iris species based on flower morphological features\n",
    "\n",
    "<img align=\"right\" src=\"../data/iris_petal_sepal.png\">\n",
    "The Iris flower data set or Fisher's Iris data set is a multivariate data set introduced by the British statistician and biologist Ronald Fisher.\n",
    "\n",
    "The data set consists of 50 samples from each of three species of Iris (*Iris setosa*, *Iris virginica* and *Iris versicolor*). Four features were measured from each sample: the length and the width of the sepals and petals, in centimeters."
   ]
  },
  {
   "cell_type": "code",
   "execution_count": null,
   "metadata": {},
   "outputs": [],
   "source": [
    "df = read_excel('../data/iris-dataset.xls')"
   ]
  },
  {
   "cell_type": "code",
   "execution_count": null,
   "metadata": {},
   "outputs": [],
   "source": [
    "# Display (part of) the data set contained in the Pandas DataFrame\n",
    "print(df)"
   ]
  },
  {
   "cell_type": "markdown",
   "metadata": {},
   "source": [
    "### A very high-level introduction on working with DataFrames"
   ]
  },
  {
   "cell_type": "code",
   "execution_count": null,
   "metadata": {},
   "outputs": [],
   "source": [
    "# Working with columns\n",
    "print(df.columns)\n",
    "print(df['petal width'])\n",
    "print(df[['petal width', 'species']])\n",
    "\n",
    "# Working with rows\n",
    "print(df.loc[10])\n",
    "print(df.loc[5:10])\n",
    "print(df.head(10))\n",
    "\n",
    "# Query for data\n",
    "print(df[df['sepal length'] > 7])\n",
    "print(df.loc[df['sepal length'] > 7, 'petal width'])"
   ]
  },
  {
   "cell_type": "markdown",
   "metadata": {},
   "source": [
    "### Compute descriptive statistics"
   ]
  },
  {
   "cell_type": "code",
   "execution_count": null,
   "metadata": {},
   "outputs": [],
   "source": [
    "# Single statistical operations\n",
    "print(df.mean())\n",
    "print(df.sum())\n",
    "print(df.skew())\n",
    "\n",
    "# Statistical overview\n",
    "print(df.describe())\n",
    "\n",
    "# combining operations\n",
    "sp = df['sepal width']\n",
    "sp_stand = (sp - sp.mean()) / sp.std()\n",
    "print(sp_stand.describe())"
   ]
  },
  {
   "cell_type": "markdown",
   "metadata": {},
   "source": [
    "### Grouping data (pivot table in Excel)"
   ]
  },
  {
   "cell_type": "code",
   "execution_count": null,
   "metadata": {},
   "outputs": [],
   "source": [
    "pv = df.groupby('species').describe()\n",
    "pv.iloc[:, pv.columns.get_level_values(1).isin(['mean', 'std'])]"
   ]
  },
  {
   "cell_type": "markdown",
   "metadata": {},
   "source": [
    "### Plotting data"
   ]
  },
  {
   "cell_type": "code",
   "execution_count": null,
   "metadata": {},
   "outputs": [],
   "source": [
    "f1 = df.plot(title='Iris data set features')\n",
    "f1.set(xlabel=\"sample\", ylabel=\"width/length (cm)\")\n",
    "\n",
    "f2 = df.plot.box()\n",
    "\n",
    "f3 = df.hist()"
   ]
  }
 ],
 "metadata": {
  "kernelspec": {
   "display_name": "Python 3",
   "language": "python",
   "name": "python3"
  },
  "language_info": {
   "codemirror_mode": {
    "name": "ipython",
    "version": 3
   },
   "file_extension": ".py",
   "mimetype": "text/x-python",
   "name": "python",
   "nbconvert_exporter": "python",
   "pygments_lexer": "ipython3",
   "version": "3.6.6"
  }
 },
 "nbformat": 4,
 "nbformat_minor": 2
}
